{
 "cells": [
  {
   "cell_type": "code",
   "execution_count": 25,
   "metadata": {},
   "outputs": [],
   "source": [
    "import pandas as pd \n",
    "import os\n",
    "import dateutil\n",
    "import re \n",
    "import urllib3\n",
    "from bs4 import BeautifulSoup\n",
    "import codecs"
   ]
  },
  {
   "cell_type": "code",
   "execution_count": null,
   "metadata": {},
   "outputs": [],
   "source": [
    "# Inputs\n",
    "# Number of messages.html export files from Telegram Export\n",
    "exportMessageCount = 427"
   ]
  },
  {
   "cell_type": "code",
   "execution_count": 26,
   "metadata": {},
   "outputs": [],
   "source": [
    "def parse_telegram_export(html_str, tz_name=None):\n",
    "    ''' Parses a Telegram html export.\n",
    "    Params:\n",
    "      - html_str (str): The html string containing the Telegram export.\n",
    "      - tz_name (str|None): The name of the timezone where the export was made (eg. \"Italy/Rome\").\n",
    "        If None, no time zone will be set for the resulting datetime.\n",
    "    Returns (generator<(str, datetime.datetime, str, list<str>)>): A generator object\n",
    "        that yields a (from_name, date, text, links) tuple for each messages in the export,\n",
    "        where from_name is the sender name, date and text are the date and text of the message\n",
    "        and links is a list of the links eventually found in the message.\n",
    "    '''\n",
    "    soup = BeautifulSoup(html_str, 'html.parser')\n",
    "    tz = dateutil.tz.gettz(tz_name) if tz_name else None\n",
    "    for div in soup.select(\"div.message.default\"):\n",
    "        body = div.find('div', class_='body')\n",
    "        from_name_ = body.find('div', class_='from_name')\n",
    "        if from_name_ is not None:\n",
    "            from_name = from_name_.string\n",
    "            if from_name is None:\n",
    "                from_name = from_name\n",
    "            else:\n",
    "                from_name = from_name.strip()\n",
    "\n",
    "        text = body.find('div', class_='text')\n",
    "        if text is not None:\n",
    "            text = text.get_text().strip()\n",
    "\n",
    "        raw_date = body.find('div', class_='date')['title']\n",
    "        naiv_date = dateutil.parser.parse(raw_date)\n",
    "        date = naiv_date.astimezone(tz) if tz else naiv_date\n",
    "        yield (from_name, date, text)"
   ]
  },
  {
   "cell_type": "code",
   "execution_count": 27,
   "metadata": {
    "tags": [
     "outputPrepend"
    ]
   },
   "outputs": [],
   "source": [
    "# Open html file\n",
    "raw = open(\"messages.html\", encoding='utf8')    "
   ]
  },
  {
   "cell_type": "code",
   "execution_count": 28,
   "metadata": {
    "tags": [
     "outputPrepend",
     "outputPrepend",
     "outputPrepend",
     "outputPrepend"
    ]
   },
   "outputs": [],
   "source": [
    "data = parse_telegram_export(raw, tz_name=None)\n",
    "\n",
    "# Data in tuple format\n",
    "df1 = pd.DataFrame(list(data), columns = ['from_name','date','text'])\n"
   ]
  },
  {
   "cell_type": "code",
   "execution_count": 40,
   "metadata": {},
   "outputs": [
    {
     "output_type": "stream",
     "name": "stdout",
     "text": "0% completed.\n1% completed.\n1% completed.\n1% completed.\n1% completed.\n2% completed.\n2% completed.\n2% completed.\n2% completed.\n2% completed.\n3% completed.\n3% completed.\n3% completed.\n3% completed.\n4% completed.\n4% completed.\n4% completed.\n4% completed.\n4% completed.\n5% completed.\n5% completed.\n5% completed.\n5% completed.\n6% completed.\n6% completed.\n6% completed.\n6% completed.\n7% completed.\n7% completed.\n7% completed.\n7% completed.\n7% completed.\n8% completed.\n8% completed.\n8% completed.\n8% completed.\n9% completed.\n9% completed.\n9% completed.\n9% completed.\n9% completed.\n10% completed.\n10% completed.\n10% completed.\n10% completed.\n11% completed.\n11% completed.\n11% completed.\n11% completed.\n11% completed.\n12% completed.\n12% completed.\n12% completed.\n12% completed.\n13% completed.\n13% completed.\n13% completed.\n13% completed.\n13% completed.\n14% completed.\n14% completed.\n14% completed.\n14% completed.\n15% completed.\n15% completed.\n15% completed.\n15% completed.\n15% completed.\n16% completed.\n16% completed.\n16% completed.\n16% completed.\n17% completed.\n17% completed.\n17% completed.\n17% completed.\n17% completed.\n18% completed.\n18% completed.\n18% completed.\n18% completed.\n19% completed.\n19% completed.\n19% completed.\n19% completed.\n20% completed.\n20% completed.\n20% completed.\n20% completed.\n20% completed.\n21% completed.\n21% completed.\n21% completed.\n21% completed.\n22% completed.\n22% completed.\n22% completed.\n22% completed.\n22% completed.\n23% completed.\n23% completed.\n23% completed.\n23% completed.\n24% completed.\n24% completed.\n24% completed.\n24% completed.\n24% completed.\n25% completed.\n25% completed.\n25% completed.\n25% completed.\n26% completed.\n26% completed.\n26% completed.\n26% completed.\n26% completed.\n27% completed.\n27% completed.\n27% completed.\n27% completed.\n28% completed.\n28% completed.\n28% completed.\n28% completed.\n28% completed.\n29% completed.\n29% completed.\n29% completed.\n29% completed.\n30% completed.\n30% completed.\n30% completed.\n30% completed.\n30% completed.\n31% completed.\n31% completed.\n31% completed.\n31% completed.\n32% completed.\n32% completed.\n32% completed.\n32% completed.\n33% completed.\n33% completed.\n33% completed.\n33% completed.\n33% completed.\n34% completed.\n34% completed.\n34% completed.\n34% completed.\n35% completed.\n35% completed.\n35% completed.\n35% completed.\n35% completed.\n36% completed.\n36% completed.\n36% completed.\n36% completed.\n37% completed.\n37% completed.\n37% completed.\n37% completed.\n37% completed.\n38% completed.\n38% completed.\n38% completed.\n38% completed.\n39% completed.\n39% completed.\n39% completed.\n39% completed.\n39% completed.\n40% completed.\n40% completed.\n40% completed.\n40% completed.\n41% completed.\n41% completed.\n41% completed.\n41% completed.\n41% completed.\n42% completed.\n42% completed.\n42% completed.\n42% completed.\n43% completed.\n43% completed.\n43% completed.\n43% completed.\n43% completed.\n44% completed.\n44% completed.\n44% completed.\n44% completed.\n45% completed.\n45% completed.\n45% completed.\n45% completed.\n46% completed.\n46% completed.\n46% completed.\n46% completed.\n46% completed.\n47% completed.\n47% completed.\n47% completed.\n47% completed.\n48% completed.\n48% completed.\n48% completed.\n48% completed.\n48% completed.\n49% completed.\n49% completed.\n49% completed.\n49% completed.\n50% completed.\n50% completed.\n50% completed.\n50% completed.\n50% completed.\n51% completed.\n51% completed.\n51% completed.\n51% completed.\n52% completed.\n52% completed.\n52% completed.\n52% completed.\n52% completed.\n53% completed.\n53% completed.\n53% completed.\n53% completed.\n54% completed.\n54% completed.\n54% completed.\n54% completed.\n54% completed.\n55% completed.\n55% completed.\n55% completed.\n55% completed.\n56% completed.\n56% completed.\n56% completed.\n56% completed.\n57% completed.\n57% completed.\n57% completed.\n57% completed.\n57% completed.\n58% completed.\n58% completed.\n58% completed.\n58% completed.\n59% completed.\n59% completed.\n59% completed.\n59% completed.\n59% completed.\n60% completed.\n60% completed.\n60% completed.\n60% completed.\n61% completed.\n61% completed.\n61% completed.\n61% completed.\n61% completed.\n62% completed.\n62% completed.\n62% completed.\n62% completed.\n63% completed.\n63% completed.\n63% completed.\n63% completed.\n63% completed.\n64% completed.\n64% completed.\n64% completed.\n64% completed.\n65% completed.\n65% completed.\n65% completed.\n65% completed.\n65% completed.\n66% completed.\n66% completed.\n66% completed.\n66% completed.\n67% completed.\n67% completed.\n67% completed.\n67% completed.\n67% completed.\n68% completed.\n68% completed.\n68% completed.\n68% completed.\n69% completed.\n69% completed.\n69% completed.\n69% completed.\n70% completed.\n70% completed.\n70% completed.\n70% completed.\n70% completed.\n71% completed.\n71% completed.\n71% completed.\n71% completed.\n72% completed.\n72% completed.\n72% completed.\n72% completed.\n72% completed.\n73% completed.\n73% completed.\n73% completed.\n73% completed.\n74% completed.\n74% completed.\n74% completed.\n74% completed.\n74% completed.\n75% completed.\n75% completed.\n75% completed.\n75% completed.\n76% completed.\n76% completed.\n76% completed.\n76% completed.\n76% completed.\n77% completed.\n77% completed.\n77% completed.\n77% completed.\n78% completed.\n78% completed.\n78% completed.\n78% completed.\n78% completed.\n79% completed.\n79% completed.\n79% completed.\n79% completed.\n80% completed.\n80% completed.\n80% completed.\n80% completed.\n80% completed.\n81% completed.\n81% completed.\n81% completed.\n81% completed.\n82% completed.\n82% completed.\n82% completed.\n82% completed.\n83% completed.\n83% completed.\n83% completed.\n83% completed.\n83% completed.\n84% completed.\n84% completed.\n84% completed.\n84% completed.\n85% completed.\n85% completed.\n85% completed.\n85% completed.\n85% completed.\n86% completed.\n86% completed.\n86% completed.\n86% completed.\n87% completed.\n87% completed.\n87% completed.\n87% completed.\n87% completed.\n88% completed.\n88% completed.\n88% completed.\n88% completed.\n89% completed.\n89% completed.\n89% completed.\n89% completed.\n89% completed.\n90% completed.\n90% completed.\n90% completed.\n90% completed.\n91% completed.\n91% completed.\n91% completed.\n91% completed.\n91% completed.\n92% completed.\n92% completed.\n92% completed.\n92% completed.\n93% completed.\n93% completed.\n93% completed.\n93% completed.\n93% completed.\n94% completed.\n94% completed.\n94% completed.\n94% completed.\n95% completed.\n95% completed.\n95% completed.\n95% completed.\n96% completed.\n96% completed.\n96% completed.\n96% completed.\n96% completed.\n97% completed.\n97% completed.\n97% completed.\n97% completed.\n98% completed.\n98% completed.\n98% completed.\n98% completed.\n98% completed.\n99% completed.\n99% completed.\n99% completed.\n99% completed.\n100% completed.\n100% completed.\n100% completed.\nCompleted\n"
    }
   ],
   "source": [
    "# Open html file\n",
    "for i in range(2,exportMessageCount+1):\n",
    "      filename = \"messages\" + str(i) + \".html\"\n",
    "      raw = open(filename, encoding='utf8')\n",
    "      data = parse_telegram_export(raw, tz_name=None)\n",
    "      df2 = pd.DataFrame(list(data), columns = ['from_name','date','text'])\n",
    "      df1 = df1.append(df2).reset_index(drop = True)\n",
    "\n",
    "      completion = round(float(i)/float(exportMessageCount) * 100)\n",
    "      print(str(completion) + \"%\" + \" completed.\")\n",
    "\n",
    "      if( i == int(exportMessageCount)):\n",
    "          print('Completed')\n",
    "    \n"
   ]
  },
  {
   "cell_type": "code",
   "execution_count": 43,
   "metadata": {},
   "outputs": [],
   "source": [
    "# Export\n",
    "df1.to_csv('Chat_Data v1.0.csv')"
   ]
  }
 ],
 "metadata": {
  "language_info": {
   "codemirror_mode": {
    "name": "ipython",
    "version": 3
   },
   "file_extension": ".py",
   "mimetype": "text/x-python",
   "name": "python",
   "nbconvert_exporter": "python",
   "pygments_lexer": "ipython3",
   "version": "3.7.6-final"
  },
  "orig_nbformat": 2,
  "kernelspec": {
   "name": "python37664bitvirtualenv939db5f5ebc54a8799ecc048cf1235c4",
   "display_name": "Python 3.7.6 64-bit (virtualenv)"
  }
 },
 "nbformat": 4,
 "nbformat_minor": 2
}